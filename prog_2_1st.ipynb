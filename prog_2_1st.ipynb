{
 "cells": [
  {
   "cell_type": "code",
   "execution_count": 27,
   "metadata": {},
   "outputs": [],
   "source": [
    "class Viesis:\n",
    "    def __init__(self, v, p):\n",
    "        self.vards = v\n",
    "        self.parole = p\n",
    "    def drukaVardu(self):\n",
    "        print(\"Viesis \" + str(self.vards) + \" tika izveidots\")\n",
    "    def drukaParoli(self):\n",
    "        print(\"parole \"+ str(self.vards)+ \" ir \" + str(self.parole))"
   ]
  },
  {
   "cell_type": "code",
   "execution_count": 28,
   "metadata": {},
   "outputs": [],
   "source": [
    "vards = \"Alfreds\"\n",
    "parole = '123'\n",
    "\n",
    "\n",
    "viesisAlfreds = Viesis(vards, parole)"
   ]
  },
  {
   "cell_type": "code",
   "execution_count": 29,
   "metadata": {},
   "outputs": [
    {
     "name": "stdout",
     "output_type": "stream",
     "text": [
      "Viesis Alfreds tika izveidots\n"
     ]
    }
   ],
   "source": [
    "viesisAlfreds.drukaVardu()"
   ]
  },
  {
   "cell_type": "code",
   "execution_count": null,
   "metadata": {},
   "outputs": [],
   "source": []
  },
  {
   "cell_type": "code",
   "execution_count": null,
   "metadata": {},
   "outputs": [],
   "source": []
  }
 ],
 "metadata": {
  "kernelspec": {
   "display_name": "Python 3",
   "language": "python",
   "name": "python3"
  },
  "language_info": {
   "codemirror_mode": {
    "name": "ipython",
    "version": 3
   },
   "file_extension": ".py",
   "mimetype": "text/x-python",
   "name": "python",
   "nbconvert_exporter": "python",
   "pygments_lexer": "ipython3",
   "version": "3.8.3"
  }
 },
 "nbformat": 4,
 "nbformat_minor": 4
}
